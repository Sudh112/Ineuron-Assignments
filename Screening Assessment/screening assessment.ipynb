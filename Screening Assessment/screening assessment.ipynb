{
 "cells": [
  {
   "cell_type": "markdown",
   "id": "b0b69fc9",
   "metadata": {},
   "source": [
    "#<b> Q1. Create a function in python to read the text file and replace specific content of the file.<b>"
   ]
  },
  {
   "cell_type": "code",
   "execution_count": 1,
   "id": "2e76c3f0",
   "metadata": {},
   "outputs": [],
   "source": [
    "\n",
    "#read text file\n",
    "\n",
    "with open(r\"C:\\Users\\Ananthakrishnan\\Desktop\\FSDS\\06_Practice\\example.txt\",'r') as file:\n",
    "    exampledata =file.read()"
   ]
  },
  {
   "cell_type": "code",
   "execution_count": 2,
   "id": "caffb0ee",
   "metadata": {},
   "outputs": [
    {
     "data": {
      "text/plain": [
       "'This is a placement assignment'"
      ]
     },
     "execution_count": 2,
     "metadata": {},
     "output_type": "execute_result"
    }
   ],
   "source": [
    "exampledata"
   ]
  },
  {
   "cell_type": "code",
   "execution_count": 3,
   "id": "bc31479b",
   "metadata": {},
   "outputs": [],
   "source": [
    "#Replace string \n",
    "exampledata=exampledata.replace('placement','screening')"
   ]
  },
  {
   "cell_type": "code",
   "execution_count": 4,
   "id": "ba6e74a1",
   "metadata": {},
   "outputs": [
    {
     "data": {
      "text/plain": [
       "'This is a screening assignment'"
      ]
     },
     "execution_count": 4,
     "metadata": {},
     "output_type": "execute_result"
    }
   ],
   "source": [
    "exampledata"
   ]
  },
  {
   "cell_type": "code",
   "execution_count": 7,
   "id": "f8f64767",
   "metadata": {},
   "outputs": [],
   "source": [
    "#write the data in that file again\n",
    "\n",
    "with open (r\"C:\\Users\\Ananthakrishnan\\Desktop\\FSDS\\06_Practice\\example.txt\",'w') as file:\n",
    "    file.write(exampledata)"
   ]
  },
  {
   "cell_type": "markdown",
   "id": "a8f3981d",
   "metadata": {},
   "source": [
    "<b>Q2. Demonstrate use of abstract class, multiple inheritance and decorator inpython using examples.<b>"
   ]
  },
  {
   "cell_type": "markdown",
   "id": "6b90f436",
   "metadata": {},
   "source": [
    "<b>Abstract class</b>:\n",
    "An abstract class can be considered as a blueprint for other classes. It allows you to create a set of methods that must be created within any child classes built from the abstract class. A class which contains one or more abstract methods is called an abstract class. \n",
    "\n",
    "A class is called an abstract class if it has abstract methods\n",
    "\n",
    "<b>Abstract methods</b> are those methods that are declared inside of a class but defined later in the child classes.\n"
   ]
  },
  {
   "cell_type": "code",
   "execution_count": 8,
   "id": "0ec65819",
   "metadata": {},
   "outputs": [
    {
     "name": "stdout",
     "output_type": "stream",
     "text": [
      "True\n",
      "True\n"
     ]
    }
   ],
   "source": [
    "import abc\n",
    " \n",
    "class parent:      \n",
    "    def geeks(self):\n",
    "        pass\n",
    " \n",
    "class child(parent):\n",
    "    def geeks(self):\n",
    "        print(\"child class\")\n",
    " \n",
    "# Driver code\n",
    "print( issubclass(child, parent))\n",
    "print( isinstance(child(), parent))\n",
    "    "
   ]
  },
  {
   "cell_type": "markdown",
   "id": "b3de72a4",
   "metadata": {},
   "source": [
    "<b>Multiple Inheritance:<b>\n",
    "\n",
    "If a class is derived from two or more base classes then it is called as multiple inheritance\n"
   ]
  },
  {
   "cell_type": "code",
   "execution_count": 9,
   "id": "3260776b",
   "metadata": {},
   "outputs": [
    {
     "name": "stdout",
     "output_type": "stream",
     "text": [
      "Buying a camera\n",
      "Customer Review\n"
     ]
    }
   ],
   "source": [
    "class Phone:\n",
    "    def __init__(self,price,brand,camera):\n",
    "        self.__price=price\n",
    "        self.brand=brand\n",
    "        self.camera=camera\n",
    "        \n",
    "    def buy (self):\n",
    "        print(\"Buying a camera\")\n",
    "    \n",
    "    def returnphone(self):\n",
    "        print(\"returning phone\")\n",
    "        \n",
    "class Product:\n",
    "    def review(self):\n",
    "        print(\"Customer Review\")\n",
    "        \n",
    "class SmartPhone(Phone,Product):\n",
    "    pass\n",
    "\n",
    "s=SmartPhone(\"30000\",\"Apple\",\"12\")\n",
    "\n",
    "s.buy()\n",
    "s.review()\n"
   ]
  },
  {
   "cell_type": "markdown",
   "id": "0e613364",
   "metadata": {},
   "source": [
    "<b>Python Decorators:<b>\n",
    "\n",
    "Decorators allow us to wrap another function in order to extend the behaviour of the wrapped function, without permanently modifying it. But before diving deep into decorators let us understand some concepts that will come in handy in learning the decorators.\n",
    "\n"
   ]
  },
  {
   "cell_type": "code",
   "execution_count": 10,
   "id": "ccb43afb",
   "metadata": {},
   "outputs": [
    {
     "name": "stdout",
     "output_type": "stream",
     "text": [
      "HELLO\n",
      "HELLO\n"
     ]
    }
   ],
   "source": [
    "#initial code:\n",
    "\n",
    "\n",
    "# Python program to illustrate functions\n",
    "# can be treated as objects\n",
    "def shout(text):\n",
    "    return text.upper()\n",
    " \n",
    "print(shout('Hello'))\n",
    " \n",
    "yell = shout\n",
    " \n",
    "print(yell('Hello'))"
   ]
  },
  {
   "cell_type": "code",
   "execution_count": null,
   "id": "931763f0",
   "metadata": {},
   "outputs": [],
   "source": []
  }
 ],
 "metadata": {
  "kernelspec": {
   "display_name": "Python 3 (ipykernel)",
   "language": "python",
   "name": "python3"
  },
  "language_info": {
   "codemirror_mode": {
    "name": "ipython",
    "version": 3
   },
   "file_extension": ".py",
   "mimetype": "text/x-python",
   "name": "python",
   "nbconvert_exporter": "python",
   "pygments_lexer": "ipython3",
   "version": "3.9.7"
  }
 },
 "nbformat": 4,
 "nbformat_minor": 5
}
